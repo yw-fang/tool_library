{
 "cells": [
  {
   "cell_type": "code",
   "execution_count": 1,
   "metadata": {},
   "outputs": [],
   "source": [
    "from pymatgen.io.vasp import Poscar\n",
    "# from numpy import sqrt\n",
    "# from numpy import arccos  # dot # pi\n",
    "# from numpy.linalg import norm\n",
    "# import numpy as np\n",
    "\n",
    "# yourfile = input('Choose a file: ')\n",
    "# p = Poscar.from_file(yourfile)\n",
    "\n",
    "p = Poscar.from_file('./POSCAR.vasp')\n",
    "\n"
   ]
  },
  {
   "cell_type": "code",
   "execution_count": 19,
   "metadata": {},
   "outputs": [],
   "source": [
    "frac = p.structure[1:21]"
   ]
  },
  {
   "cell_type": "code",
   "execution_count": 20,
   "metadata": {},
   "outputs": [
    {
     "data": {
      "text/plain": [
       "[PeriodicSite: Bi (0.0000, 12.3609, 1.3630) [0.0000, 0.1545, 0.3422],\n",
       " PeriodicSite: Ba (0.0000, 63.5229, 0.9766) [0.0000, 0.7940, 0.2452],\n",
       " PeriodicSite: Ba (0.0000, 16.4771, 0.9766) [0.0000, 0.2060, 0.2452],\n",
       " PeriodicSite: Sr (0.0000, 40.0000, 1.4031) [0.0000, 0.5000, 0.3523],\n",
       " PeriodicSite: Sr (0.0000, 47.7079, 1.3193) [0.0000, 0.5963, 0.3312],\n",
       " PeriodicSite: Sr (0.0000, 55.5438, 1.1704) [-0.0000, 0.6943, 0.2938],\n",
       " PeriodicSite: Sr (0.0000, 43.8332, 1.3824) [-0.0000, 0.5479, 0.3471],\n",
       " PeriodicSite: Sr (0.0000, 51.6145, 1.2449) [0.0000, 0.6452, 0.3125],\n",
       " PeriodicSite: Sr (0.0000, 59.5040, 1.0499) [-0.0000, 0.7438, 0.2636],\n",
       " PeriodicSite: Sr (0.0000, 32.2921, 1.3193) [0.0000, 0.4037, 0.3312],\n",
       " PeriodicSite: Sr (0.0000, 24.4562, 1.1704) [0.0000, 0.3057, 0.2938],\n",
       " PeriodicSite: Sr (0.0000, 36.1668, 1.3824) [-0.0000, 0.4521, 0.3471],\n",
       " PeriodicSite: Sr (0.0000, 28.3855, 1.2449) [0.0000, 0.3548, 0.3125],\n",
       " PeriodicSite: Sr (0.0000, 20.4960, 1.0499) [0.0000, 0.2562, 0.2636],\n",
       " PeriodicSite: Ti (1.9989, 41.9096, 3.3808) [0.5000, 0.5239, 0.8488],\n",
       " PeriodicSite: Ti (1.9989, 49.6454, 3.2708) [0.5000, 0.6206, 0.8212],\n",
       " PeriodicSite: Ti (1.9989, 57.4987, 3.1206) [0.5000, 0.7187, 0.7835],\n",
       " PeriodicSite: Ti (1.9989, 45.7550, 3.3345) [0.5000, 0.5719, 0.8372],\n",
       " PeriodicSite: Ti (1.9989, 53.5658, 3.2005) [0.5000, 0.6696, 0.8035],\n",
       " PeriodicSite: Ti (1.9989, 61.4168, 3.0024) [0.5000, 0.7677, 0.7538]]"
      ]
     },
     "execution_count": 20,
     "metadata": {},
     "output_type": "execute_result"
    }
   ],
   "source": [
    "frac"
   ]
  },
  {
   "cell_type": "code",
   "execution_count": 27,
   "metadata": {},
   "outputs": [],
   "source": [
    "list1 = frac[1:21]"
   ]
  },
  {
   "cell_type": "code",
   "execution_count": 45,
   "metadata": {},
   "outputs": [
    {
     "ename": "SyntaxError",
     "evalue": "invalid syntax (<ipython-input-45-5d8e4589754c>, line 1)",
     "output_type": "error",
     "traceback": [
      "\u001b[0;36m  File \u001b[0;32m\"<ipython-input-45-5d8e4589754c>\"\u001b[0;36m, line \u001b[0;32m1\u001b[0m\n\u001b[0;31m    x=list[]\u001b[0m\n\u001b[0m           ^\u001b[0m\n\u001b[0;31mSyntaxError\u001b[0m\u001b[0;31m:\u001b[0m invalid syntax\n"
     ]
    }
   ],
   "source": [
    "x=list[]\n",
    "for i in range(1,10):\n",
    "    x.append[i.frac_coords]"
   ]
  },
  {
   "cell_type": "code",
   "execution_count": 46,
   "metadata": {},
   "outputs": [
    {
     "data": {
      "text/plain": [
       "[PeriodicSite: Ba (0.0000, 63.5229, 0.9766) [0.0000, 0.7940, 0.2452],\n",
       " PeriodicSite: Ba (0.0000, 16.4771, 0.9766) [0.0000, 0.2060, 0.2452],\n",
       " PeriodicSite: Sr (0.0000, 40.0000, 1.4031) [0.0000, 0.5000, 0.3523],\n",
       " PeriodicSite: Sr (0.0000, 47.7079, 1.3193) [0.0000, 0.5963, 0.3312],\n",
       " PeriodicSite: Sr (0.0000, 55.5438, 1.1704) [-0.0000, 0.6943, 0.2938],\n",
       " PeriodicSite: Sr (0.0000, 43.8332, 1.3824) [-0.0000, 0.5479, 0.3471],\n",
       " PeriodicSite: Sr (0.0000, 51.6145, 1.2449) [0.0000, 0.6452, 0.3125],\n",
       " PeriodicSite: Sr (0.0000, 59.5040, 1.0499) [-0.0000, 0.7438, 0.2636],\n",
       " PeriodicSite: Sr (0.0000, 32.2921, 1.3193) [0.0000, 0.4037, 0.3312],\n",
       " PeriodicSite: Sr (0.0000, 24.4562, 1.1704) [0.0000, 0.3057, 0.2938],\n",
       " PeriodicSite: Sr (0.0000, 36.1668, 1.3824) [-0.0000, 0.4521, 0.3471],\n",
       " PeriodicSite: Sr (0.0000, 28.3855, 1.2449) [0.0000, 0.3548, 0.3125],\n",
       " PeriodicSite: Sr (0.0000, 20.4960, 1.0499) [0.0000, 0.2562, 0.2636],\n",
       " PeriodicSite: Ti (1.9989, 41.9096, 3.3808) [0.5000, 0.5239, 0.8488],\n",
       " PeriodicSite: Ti (1.9989, 49.6454, 3.2708) [0.5000, 0.6206, 0.8212],\n",
       " PeriodicSite: Ti (1.9989, 57.4987, 3.1206) [0.5000, 0.7187, 0.7835],\n",
       " PeriodicSite: Ti (1.9989, 45.7550, 3.3345) [0.5000, 0.5719, 0.8372],\n",
       " PeriodicSite: Ti (1.9989, 53.5658, 3.2005) [0.5000, 0.6696, 0.8035],\n",
       " PeriodicSite: Ti (1.9989, 61.4168, 3.0024) [0.5000, 0.7677, 0.7538]]"
      ]
     },
     "execution_count": 46,
     "metadata": {},
     "output_type": "execute_result"
    }
   ],
   "source": [
    "list1"
   ]
  },
  {
   "cell_type": "code",
   "execution_count": 47,
   "metadata": {},
   "outputs": [],
   "source": [
    "import pandas as pd\n",
    "df = pd.DataFrame({'col':list1})"
   ]
  },
  {
   "cell_type": "code",
   "execution_count": 53,
   "metadata": {},
   "outputs": [],
   "source": [
    "x=list1[0].frac_coords"
   ]
  },
  {
   "cell_type": "code",
   "execution_count": 54,
   "metadata": {},
   "outputs": [
    {
     "data": {
      "text/plain": [
       "array([ 0.        ,  0.79403567,  0.24518109])"
      ]
     },
     "execution_count": 54,
     "metadata": {},
     "output_type": "execute_result"
    }
   ],
   "source": [
    "x"
   ]
  },
  {
   "cell_type": "code",
   "execution_count": 55,
   "metadata": {},
   "outputs": [
    {
     "ename": "AttributeError",
     "evalue": "'list' object has no attribute 'frac_coords'",
     "output_type": "error",
     "traceback": [
      "\u001b[0;31m---------------------------------------------------------------------------\u001b[0m",
      "\u001b[0;31mAttributeError\u001b[0m                            Traceback (most recent call last)",
      "\u001b[0;32m<ipython-input-55-f4e34d4b1e5d>\u001b[0m in \u001b[0;36m<module>\u001b[0;34m()\u001b[0m\n\u001b[0;32m----> 1\u001b[0;31m \u001b[0mlist1\u001b[0m\u001b[0;34m.\u001b[0m\u001b[0mfrac_coords\u001b[0m\u001b[0;34m\u001b[0m\u001b[0m\n\u001b[0m",
      "\u001b[0;31mAttributeError\u001b[0m: 'list' object has no attribute 'frac_coords'"
     ]
    }
   ],
   "source": [
    "list1.frac_coords"
   ]
  },
  {
   "cell_type": "code",
   "execution_count": null,
   "metadata": {},
   "outputs": [],
   "source": []
  }
 ],
 "metadata": {
  "kernelspec": {
   "display_name": "Python 3",
   "language": "python",
   "name": "python3"
  },
  "language_info": {
   "codemirror_mode": {
    "name": "ipython",
    "version": 3
   },
   "file_extension": ".py",
   "mimetype": "text/x-python",
   "name": "python",
   "nbconvert_exporter": "python",
   "pygments_lexer": "ipython3",
   "version": "3.6.3"
  }
 },
 "nbformat": 4,
 "nbformat_minor": 2
}
