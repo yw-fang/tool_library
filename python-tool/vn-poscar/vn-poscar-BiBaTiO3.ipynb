{
 "cells": [
  {
   "cell_type": "code",
   "execution_count": 138,
   "metadata": {},
   "outputs": [
    {
     "name": "stdout",
     "output_type": "stream",
     "text": [
      "53+23+51+55+1\n",
      "50+52+22+54+3\n",
      "43+37+21+49+10\n",
      "40+34+18+46+7\n",
      "42+36+20+48+9\n",
      "39+33+17+45+6\n",
      "41+35+19+47+8\n",
      "38+32+16+44+5\n",
      "24+56+62+13+70\n",
      "27+59+65+11+68\n",
      "25+57+63+14+71\n",
      "28+60+66+12+69\n",
      "26+58+64+15+72\n",
      "29+61+67+4+77\n",
      "30+75+73+2+78\n"
     ]
    }
   ],
   "source": [
    "from pymatgen.io.vasp import Poscar\n",
    "import pandas as pd\n",
    "# Purpose: This script is similar to the 'vn POSCAR' command\n",
    "# The difference is that I sort the coordinates along the b direction\n",
    "__author__ = \"Yue-Wen FANG\"\n",
    "__maintainer__ = \"Yue-Wen FANG\"\n",
    "__email__ = \"fyuewen@gmail.com\"\n",
    "__status__ = \"Development\"\n",
    "__creation_date__ = \"September 13th, 2018\"\n",
    "\n",
    "# yourfile = input('Choose a file: ')\n",
    "# p = Poscar.from_file(yourfile)\n",
    "\n",
    "p = Poscar.from_file('./SrTiO3-BiBaTi2O6.vasp')\n",
    "\n",
    "structure_summary = p.structure\n",
    "natoms_list = p.natoms\n",
    "sum_natoms = sum(natoms_list[0:len(natoms_list)])\n",
    "coordinates = p.structure[0:sum_natoms]\n",
    "\n",
    "\n",
    "fractional_coord_list = []\n",
    "for i in coordinates:\n",
    "    fractional_coord_list.append(i.frac_coords)\n",
    "    \n",
    "\n",
    "df = pd.DataFrame({'frac_coordinates':fractional_coord_list,'number': range(1,sum_natoms+1)},index = range(1,sum_natoms+1))\n",
    "\n",
    "#split the 'frac_coordinates' column into three columns of 'x', 'y', and 'z'\n",
    "df[['x','y','z']] = pd.DataFrame(df.frac_coordinates.values.tolist(), index=df.index) \n",
    "\n",
    "df1 = df.copy()\n",
    "df2 = df1.sort_values(by=['y'], ascending=False)\n",
    "number = df2.number\n",
    "\n",
    "# In this mode, every ABO3 layer contains 5 atoms\n",
    "# hence I group them by every 5 atoms\n",
    "for i,j,k,l,m in zip(*[iter(number)]*5): \n",
    "#     print(i,j,k,l,m)\n",
    "    print(\"{}+{}+{}+{}+{}\".format(str(i),str(j), str(k), str(l), str(m)))"
   ]
  },
  {
   "cell_type": "code",
   "execution_count": null,
   "metadata": {},
   "outputs": [],
   "source": []
  }
 ],
 "metadata": {
  "kernelspec": {
   "display_name": "Python 3",
   "language": "python",
   "name": "python3"
  },
  "language_info": {
   "codemirror_mode": {
    "name": "ipython",
    "version": 3
   },
   "file_extension": ".py",
   "mimetype": "text/x-python",
   "name": "python",
   "nbconvert_exporter": "python",
   "pygments_lexer": "ipython3",
   "version": "3.6.3"
  }
 },
 "nbformat": 4,
 "nbformat_minor": 2
}
