{
 "cells": [
  {
   "cell_type": "code",
   "execution_count": 129,
   "id": "7962235f-ae98-4989-b31f-07e45727718f",
   "metadata": {},
   "outputs": [
    {
     "data": {
      "text/html": [
       "<div>\n",
       "<style scoped>\n",
       "    .dataframe tbody tr th:only-of-type {\n",
       "        vertical-align: middle;\n",
       "    }\n",
       "\n",
       "    .dataframe tbody tr th {\n",
       "        vertical-align: top;\n",
       "    }\n",
       "\n",
       "    .dataframe thead th {\n",
       "        text-align: right;\n",
       "    }\n",
       "</style>\n",
       "<table border=\"1\" class=\"dataframe\">\n",
       "  <thead>\n",
       "    <tr style=\"text-align: right;\">\n",
       "      <th></th>\n",
       "      <th>0</th>\n",
       "      <th>0</th>\n",
       "    </tr>\n",
       "  </thead>\n",
       "  <tbody>\n",
       "    <tr>\n",
       "      <th>0</th>\n",
       "      <td>Alex</td>\n",
       "      <td>0.80</td>\n",
       "    </tr>\n",
       "    <tr>\n",
       "      <th>1</th>\n",
       "      <td>Lauren</td>\n",
       "      <td>0.75</td>\n",
       "    </tr>\n",
       "  </tbody>\n",
       "</table>\n",
       "</div>"
      ],
      "text/plain": [
       "        0     0\n",
       "0    Alex  0.80\n",
       "1  Lauren  0.75"
      ]
     },
     "execution_count": 129,
     "metadata": {},
     "output_type": "execute_result"
    }
   ],
   "source": [
    "#https://stackoverflow.com/questions/35830833/concat-a-dataframe-with-a-series-in-pandas  concat a DataFrame with a Series in Pandas\n",
    "pandas as pd\n",
    "students = pd.DataFrame([\n",
    "    ['Alex'],\n",
    "    ['Lauren'],\n",
    "])\n",
    "marks = pd.Series([.8, .75])\n",
    "pd.concat([students, pd.DataFrame(marks)], axis=1)"
   ]
  },
  {
   "cell_type": "markdown",
   "id": "eb2e385f-80c8-494b-8ee9-24c99b3174a6",
   "metadata": {},
   "source": [
    "# Original implementation in CrySPY"
   ]
  },
  {
   "cell_type": "code",
   "execution_count": 2,
   "id": "46859de8-68bb-4064-8e61-6bd31859e501",
   "metadata": {},
   "outputs": [
    {
     "name": "stdout",
     "output_type": "stream",
     "text": [
      "  Gen Population Crossover Permutation Strain Random Elite crs_lat slct_func\n",
      "0   1         50         0           0      0     50     0   equal       TNM\n",
      "1   2         50        20           5     10     15     5   equal       TNM\n",
      "2   3         50        25           5     10     10     5   equal       TNM\n",
      "3   4         50        25           5     10     10     5   equal       TNM\n",
      "4   5         50        25           5     10     10     5   equal       TNM\n",
      "5   6         50        25           5     10     10     5   equal       TNM\n",
      "6   7         50        25           5     10     10     5   equal       TNM\n",
      "    Gen Population Crossover Permutation Strain Random Elite crs_lat slct_func\n",
      "0     1         50         0           0      0     50     0   equal       TNM\n",
      "1     2         50        20           5     10     15     5   equal       TNM\n",
      "2     3         50        25           5     10     10     5   equal       TNM\n",
      "3     4         50        25           5     10     10     5   equal       TNM\n",
      "4     5         50        25           5     10     10     5   equal       TNM\n",
      "5     6         50        25           5     10     10     5   equal       TNM\n",
      "6     7         50        25           5     10     10     5   equal       TNM\n",
      "7  9999         50      9999        9999   9999   9999  9999   equal       TNM\n"
     ]
    },
    {
     "name": "stderr",
     "output_type": "stream",
     "text": [
      "/tmp/ipykernel_55523/2456999282.py:12: FutureWarning: The frame.append method is deprecated and will be removed from pandas in a future version. Use pandas.concat instead.\n",
      "  ea_info = ea_info.append(tmp_info, ignore_index=True)\n"
     ]
    }
   ],
   "source": [
    "import pickle \n",
    "import pandas as pd\n",
    "\n",
    "def load_ea_data():\n",
    "    with open('./EA_data.pkl', 'rb') as f:\n",
    "        ea_data = pickle.load(f)\n",
    "    return ea_data\n",
    "\n",
    "elite_struc, elite_fitness, ea_info, ea_origin = load_ea_data()\n",
    "print(ea_info)\n",
    "tmp_info = pd.Series([9999, 50, 9999, 9999, 9999, 9999, 9999,'equal', 'TNM'], index=ea_info.columns)\n",
    "ea_info = ea_info.append(tmp_info, ignore_index=True)\n",
    "print(ea_info)"
   ]
  },
  {
   "cell_type": "markdown",
   "id": "4ac8c2b6-f6a6-4d0f-aca9-3cb0dd70d893",
   "metadata": {},
   "source": [
    "# New implementation in CrySPY"
   ]
  },
  {
   "cell_type": "code",
   "execution_count": 3,
   "id": "069eb543-11ee-46af-bf63-9b1c9c768cdd",
   "metadata": {},
   "outputs": [
    {
     "name": "stdout",
     "output_type": "stream",
     "text": [
      "  Gen Population Crossover Permutation Strain Random Elite crs_lat slct_func\n",
      "0   1         50         0           0      0     50     0   equal       TNM\n",
      "1   2         50        20           5     10     15     5   equal       TNM\n",
      "2   3         50        25           5     10     10     5   equal       TNM\n",
      "3   4         50        25           5     10     10     5   equal       TNM\n",
      "4   5         50        25           5     10     10     5   equal       TNM\n",
      "5   6         50        25           5     10     10     5   equal       TNM\n",
      "6   7         50        25           5     10     10     5   equal       TNM\n",
      "    Gen Population Crossover Permutation Strain Random Elite crs_lat slct_func\n",
      "0     1         50         0           0      0     50     0   equal       TNM\n",
      "1     2         50        20           5     10     15     5   equal       TNM\n",
      "2     3         50        25           5     10     10     5   equal       TNM\n",
      "3     4         50        25           5     10     10     5   equal       TNM\n",
      "4     5         50        25           5     10     10     5   equal       TNM\n",
      "5     6         50        25           5     10     10     5   equal       TNM\n",
      "6     7         50        25           5     10     10     5   equal       TNM\n",
      "7  9999         50      9999        9999   9999   9999  9999   equal       TNM\n"
     ]
    }
   ],
   "source": [
    "import pickle \n",
    "import pandas as pd\n",
    "\n",
    "def load_ea_data():\n",
    "    with open('./EA_data.pkl', 'rb') as f:\n",
    "        ea_data = pickle.load(f)\n",
    "    return ea_data\n",
    "\n",
    "elite_struc, elite_fitness, ea_info, ea_origin = load_ea_data()\n",
    "print(ea_info)\n",
    "\n",
    "tmp_info = pd.Series([9999, 50, 9999, 9999, 9999, 9999, 9999,'equal', 'TNM'], index=ea_info.columns)\n",
    "ea_info = pd.concat([ea_info, pd.DataFrame(tmp_info).T], axis=0, ignore_index=True)\n",
    "print(ea_info)"
   ]
  },
  {
   "cell_type": "code",
   "execution_count": null,
   "id": "fc28526f-4c54-4acf-aeac-c23c65e79dff",
   "metadata": {},
   "outputs": [],
   "source": []
  }
 ],
 "metadata": {
  "kernelspec": {
   "display_name": "Python 3 (ipykernel)",
   "language": "python",
   "name": "python3"
  },
  "language_info": {
   "codemirror_mode": {
    "name": "ipython",
    "version": 3
   },
   "file_extension": ".py",
   "mimetype": "text/x-python",
   "name": "python",
   "nbconvert_exporter": "python",
   "pygments_lexer": "ipython3",
   "version": "3.9.12"
  }
 },
 "nbformat": 4,
 "nbformat_minor": 5
}
