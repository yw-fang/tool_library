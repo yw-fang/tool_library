{
 "cells": [
  {
   "cell_type": "markdown",
   "metadata": {},
   "source": [
    "# VASP installation in supercomputers or clusters\n",
    "\n",
    "This note will only be helpful for those who have similar environments in their supercomputers to mine.\n",
    "\n",
    "I cannot gurantee they can always work for you because installation of codes largely dependent what operations systems and MPI you are using. Hence, before installing your codes, please be sure you know what you are doing, and where the requied paths are.\n"
   ]
  },
  {
   "cell_type": "markdown",
   "metadata": {},
   "source": [
    "## For those who need install VASP in bridges:\n",
    "\n",
    "1. In the terminal, input: \n",
    "\n",
    "module load intel\n",
    "\n",
    "2. Copy $VASP_HOME/arch/makefile.include.linux_intel ./makefile.include\n",
    "\n",
    "3. Revise makefile.include. Here, I show you my [makefile.include](./makefile.include.bridges)\n",
    "   \n"
   ]
  },
  {
   "cell_type": "code",
   "execution_count": null,
   "metadata": {},
   "outputs": [],
   "source": []
  }
 ],
 "metadata": {
  "kernelspec": {
   "display_name": "Python 3",
   "language": "python",
   "name": "python3"
  },
  "language_info": {
   "codemirror_mode": {
    "name": "ipython",
    "version": 3
   },
   "file_extension": ".py",
   "mimetype": "text/x-python",
   "name": "python",
   "nbconvert_exporter": "python",
   "pygments_lexer": "ipython3",
   "version": "3.6.3"
  }
 },
 "nbformat": 4,
 "nbformat_minor": 2
}
